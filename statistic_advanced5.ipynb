{
 "cells": [
  {
   "cell_type": "markdown",
   "id": "f7db0569-db6d-4c49-b186-4fff6b773b2f",
   "metadata": {},
   "source": [
    "# Quation 1"
   ]
  },
  {
   "cell_type": "code",
   "execution_count": 1,
   "id": "c02fa81b-7ff5-4235-a398-aa9af7bb0d9e",
   "metadata": {},
   "outputs": [],
   "source": [
    "from scipy.stats import norm"
   ]
  },
  {
   "cell_type": "code",
   "execution_count": 9,
   "id": "78f3872c-ac03-4dd1-b4e3-c4ef45bb8a6b",
   "metadata": {},
   "outputs": [
    {
     "name": "stdout",
     "output_type": "stream",
     "text": [
      "(49.02001800772997, 50.97998199227003)\n",
      "49.02001800772997 50.97998199227003\n"
     ]
    }
   ],
   "source": [
    "mean=50\n",
    "std=5\n",
    "confidance_level=0.95\n",
    "size=100\n",
    "std_error=std/size**0.5\n",
    "confidence_interval=norm.interval(0.95,loc=mean,scale=std_error)\n",
    "print(confidence_interval)\n",
    "critical_value=norm.ppf((1+confidance_level)/2)\n",
    "\n",
    "margin_of_error=critical_value*std_error\n",
    "lower_interval=mean-margin_of_error\n",
    "higher_interval=mean+margin_of_error\n",
    "\n",
    "print(lower_interval,higher_interval)    "
   ]
  },
  {
   "cell_type": "code",
   "execution_count": 15,
   "id": "d03d22e8-b706-40a5-856a-4e8f49b3b528",
   "metadata": {},
   "outputs": [
    {
     "data": {
      "text/plain": [
       "(49.02001800772997, 50.97998199227003)"
      ]
     },
     "execution_count": 15,
     "metadata": {},
     "output_type": "execute_result"
    }
   ],
   "source": [
    "confidence_interval"
   ]
  },
  {
   "cell_type": "markdown",
   "id": "c4aeaab5-823c-4d74-85f4-e7b3ad32ca54",
   "metadata": {},
   "source": [
    "# Quation 2"
   ]
  },
  {
   "cell_type": "code",
   "execution_count": 16,
   "id": "55337d1e-47aa-4164-a8f0-a7f4e0ab3391",
   "metadata": {},
   "outputs": [],
   "source": [
    "observed_value=[29,23,12,14,8,20]\n",
    "expected_value=[21.2,21.2,10.6,10.6,10.6,31.8]"
   ]
  },
  {
   "cell_type": "code",
   "execution_count": 21,
   "id": "426c9113-e3bf-45a6-a567-32f1bba22554",
   "metadata": {},
   "outputs": [],
   "source": [
    "import scipy.stats as stat"
   ]
  },
  {
   "cell_type": "code",
   "execution_count": 24,
   "id": "06c889d5-89e6-4983-8ea7-07a7de452485",
   "metadata": {},
   "outputs": [],
   "source": [
    "chi_statistic,pvalue=stat.chisquare(observed_value,expected_value)"
   ]
  },
  {
   "cell_type": "code",
   "execution_count": 25,
   "id": "3faf3cd6-dc15-44f6-b315-75c4052bd79b",
   "metadata": {},
   "outputs": [],
   "source": [
    "significance_level=0.05\n",
    "dof=len(observed_value)-1\n",
    "critical_value=stat.chi2.ppf(1-significance_level,dof)"
   ]
  },
  {
   "cell_type": "code",
   "execution_count": 27,
   "id": "5dbc5eab-57d8-4e53-90f3-cfac389b264d",
   "metadata": {},
   "outputs": [
    {
     "name": "stdout",
     "output_type": "stream",
     "text": [
      "fail to reject null hypothesis\n"
     ]
    }
   ],
   "source": [
    "if chi_statistic>critical_value:\n",
    "    print(\"reject the null hypothesis\")\n",
    "else:\n",
    "    print(\"fail to reject null hypothesis\")"
   ]
  },
  {
   "cell_type": "markdown",
   "id": "07354d0e-c521-491b-a0f8-27fcd04cbd4f",
   "metadata": {},
   "source": [
    "# Quation 3"
   ]
  },
  {
   "cell_type": "code",
   "execution_count": 28,
   "id": "74b615a4-7c1c-4e04-a904-562d2f816e44",
   "metadata": {},
   "outputs": [],
   "source": [
    "import numpy as np"
   ]
  },
  {
   "cell_type": "code",
   "execution_count": 29,
   "id": "15391071-e2cd-40f1-9d2c-b4b2f34f153b",
   "metadata": {},
   "outputs": [],
   "source": [
    "data=np.array([[20],[15],[10],[25],[15],[20]])\n"
   ]
  },
  {
   "cell_type": "code",
   "execution_count": 30,
   "id": "d84db28c-b8f0-464b-809f-b3b23cf5d469",
   "metadata": {},
   "outputs": [],
   "source": [
    "import scipy.stats as stat"
   ]
  },
  {
   "cell_type": "code",
   "execution_count": 31,
   "id": "5eb1cf83-a290-46e7-8cee-8875d9d19b49",
   "metadata": {},
   "outputs": [],
   "source": [
    "chi_stat,pvalue,dof,expected=stat.chi2_contingency(data)"
   ]
  },
  {
   "cell_type": "code",
   "execution_count": 32,
   "id": "2dc9b677-838a-4d04-9bca-72acf5c98a01",
   "metadata": {},
   "outputs": [
    {
     "data": {
      "text/plain": [
       "(array([[20.],\n",
       "        [15.],\n",
       "        [10.],\n",
       "        [25.],\n",
       "        [15.],\n",
       "        [20.]]),\n",
       " 0)"
      ]
     },
     "execution_count": 32,
     "metadata": {},
     "output_type": "execute_result"
    }
   ],
   "source": [
    "stat.chi2.ppf()"
   ]
  },
  {
   "cell_type": "markdown",
   "id": "3237d3c8-5e12-4bba-bcbe-46d6a56d2d64",
   "metadata": {},
   "source": [
    "# Quation 4"
   ]
  },
  {
   "cell_type": "code",
   "execution_count": 2,
   "id": "0b59e061-4036-4b75-8433-d9d36e590cb6",
   "metadata": {},
   "outputs": [
    {
     "name": "stdout",
     "output_type": "stream",
     "text": [
      "0.10510391361888351 0.1348960863811165\n"
     ]
    }
   ],
   "source": [
    "import numpy as np\n",
    "n=500\n",
    "n_smoker=60\n",
    "confidence_leval=0.95\n",
    "p_hat=n_smoker/n\n",
    "se=np.sqrt(p_hat*(1-p_hat)/n)\n",
    "margin_of_error=se*np.sqrt(1/confidence_leval-1/n)\n",
    "lower_bound=p_hat-margin_of_error\n",
    "higher_bound=p_hat+margin_of_error\n",
    "print(lower_bound,higher_bound)"
   ]
  },
  {
   "cell_type": "code",
   "execution_count": 3,
   "id": "893de7f1-7a3d-4a03-9a20-66a939570572",
   "metadata": {},
   "outputs": [
    {
     "data": {
      "text/plain": [
       "0.12"
      ]
     },
     "execution_count": 3,
     "metadata": {},
     "output_type": "execute_result"
    }
   ],
   "source": [
    "n_smoker/n"
   ]
  },
  {
   "cell_type": "markdown",
   "id": "cab19096-e7ab-4bd8-9a55-2f22a85d151a",
   "metadata": {},
   "source": [
    "# Quation 5"
   ]
  },
  {
   "cell_type": "code",
   "execution_count": 8,
   "id": "2da0b018-7b48-4054-83b7-e7b274902492",
   "metadata": {},
   "outputs": [
    {
     "name": "stdout",
     "output_type": "stream",
     "text": [
      "Lower confidence interval: 73.02617564765823,higher confidence interval: 76.97382435234177\n"
     ]
    }
   ],
   "source": [
    "mean=75\n",
    "std=12\n",
    "significance_level=0.90\n",
    "size=100\n",
    "from scipy.stats import norm\n",
    "std_error=std/size**0.5\n",
    "lower_ci,higher_ci=norm.interval(confidence=0.90,loc=mean,scale=std_error)\n",
    "print(f\"Lower confidence interval: {lower_ci},higher confidence interval: {higher_ci}\")"
   ]
  },
  {
   "cell_type": "markdown",
   "id": "d6f41ba1-fbdc-46d6-8bb8-25d75c173c6a",
   "metadata": {},
   "source": [
    "# Quation 6"
   ]
  },
  {
   "cell_type": "code",
   "execution_count": 31,
   "id": "1adc866a-c890-4f2b-bc2a-df798ccada2b",
   "metadata": {},
   "outputs": [
    {
     "data": {
      "text/plain": [
       "<matplotlib.collections.PolyCollection at 0x7fcb2df15030>"
      ]
     },
     "execution_count": 31,
     "metadata": {},
     "output_type": "execute_result"
    },
    {
     "data": {
      "image/png": "[encoded data removed]",
      "text/plain": [
       "<Figure size 640x480 with 1 Axes>"
      ]
     },
     "metadata": {},
     "output_type": "display_data"
    }
   ],
   "source": [
    "import numpy as np\n",
    "import matplotlib.pyplot as plt\n",
    "import scipy.stats as stat\n",
    "x=np.linspace(0,100,200)\n",
    "plt.plot(x,stat.chi2.pdf(x,10))\n",
    "x_fill=np.linspace(0,20,100)\n",
    "plt.fill_between(x_fill,stat.chi2.pdf(x_fill,10))"
   ]
  },
  {
   "cell_type": "markdown",
   "id": "673ba379-8acc-4960-80ca-cb235751efd8",
   "metadata": {},
   "source": [
    "# Quation 7"
   ]
  },
  {
   "cell_type": "code",
   "execution_count": 11,
   "id": "86bed5a2-444f-4f5f-ac04-2ffeaedee73c",
   "metadata": {},
   "outputs": [
    {
     "name": "stdout",
     "output_type": "stream",
     "text": [
      "0.4793051576779699 0.5606948423220302\n"
     ]
    }
   ],
   "source": [
    "from scipy.stats import norm\n",
    "import math\n",
    "n=1000\n",
    "sample_coke=520\n",
    "propotion=sample_coke/n\n",
    "confidence_level=0.99\n",
    "#critical value (z score)\n",
    "critical_value=norm.ppf((1+confidence_level)/2)\n",
    "# standard error\n",
    "std_error=math.sqrt((propotion*(1-propotion))/n)\n",
    "# margin of error\n",
    "margin_of_error=critical_value*std_error\n",
    "\n",
    "lower_interval=propotion-margin_of_error\n",
    "\n",
    "higher_interval=propotion+margin_of_error\n",
    "print(lower_interval,higher_interval)"
   ]
  },
  {
   "cell_type": "markdown",
   "id": "de13a556-a62c-42a6-8ae0-23e2832b866d",
   "metadata": {},
   "source": [
    "# Quation 8"
   ]
  },
  {
   "cell_type": "code",
   "execution_count": 29,
   "id": "c3f62393-236b-4ea5-89cb-3c789de6c3f0",
   "metadata": {},
   "outputs": [
    {
     "name": "stdout",
     "output_type": "stream",
     "text": [
      "reject null hypothesis,coin is baised\n",
      "chi statistics: 1.617157287525381, critical_value=0.003932140000019522\n"
     ]
    }
   ],
   "source": [
    "# null hypothesis coin is bised\n",
    "# alternate hypothesis coin is not biased\n",
    "sample_size=100\n",
    "obeserved_tail=45\n",
    "expected_tail=50\n",
    "expected_head=50\n",
    "significance_value=0.05\n",
    "import scipy.stats as stat\n",
    "import math\n",
    "chi_value=((obeserved_tail-expected_tail**0.5)/expected_tail)+((expected_tail-expected_head**0.5)/expected_head)\n",
    "critical_value=stat.chi2.ppf(significance_value,1)\n",
    "if chi_value>critical_value:\n",
    "    print(\"reject null hypothesis,coin is baised\")\n",
    "else:\n",
    "    print(\"fail to reject null hypothesis,coin is not biased\")\n",
    "print(f\"chi statistics: {chi_value}, critical_value={critical_value}\")"
   ]
  },
  {
   "cell_type": "markdown",
   "id": "6a062074-ca9a-451f-815b-31485bb98b15",
   "metadata": {},
   "source": [
    "# Quation 9"
   ]
  },
  {
   "cell_type": "code",
   "execution_count": 35,
   "id": "37e93cda-933f-4516-aadc-aadf21d1fb1e",
   "metadata": {},
   "outputs": [
    {
     "name": "stdout",
     "output_type": "stream",
     "text": [
      "12.057347670250895\n",
      "reject null hypothesis\n"
     ]
    }
   ],
   "source": [
    "import scipy.stats as stat\n",
    "observd_value=[[60,140],[30,170]]\n",
    "significanse_value=0.05\n",
    "chi_square,p_value,dof,expected_value=stat.chi2_contingency(observd_value)\n",
    "print(chi_square)\n",
    "critical_value=stat.chi2.ppf(q=significanse_value,df=1)\n",
    "if chi_square>critical_value:\n",
    "    print(\"reject null hypothesis\")\n",
    "else:\n",
    "    print(\"fail to reject null hypothesis\")"
   ]
  },
  {
   "cell_type": "markdown",
   "id": "2f5716a3-9a74-41fd-9e61-edd23eb60f71",
   "metadata": {},
   "source": [
    "# Quation 10"
   ]
  },
  {
   "cell_type": "code",
   "execution_count": 41,
   "id": "9d04c264-13d7-4ebd-b700-803c35b4c57c",
   "metadata": {},
   "outputs": [
    {
     "name": "stdout",
     "output_type": "stream",
     "text": [
      "reject null hypothesis \n",
      "critical_value0.020100671707002873,chi square statistic :13.393665158371041 2\n"
     ]
    }
   ],
   "source": [
    "import scipy.stats as stat\n",
    "observed_value=[[200,225],[150,175],[150,100]]\n",
    "significant_value=0.01\n",
    "chi_square,p_value,dof,expected_value=stat.chi2_contingency(observed_value)\n",
    "critical_value=stat.chi2.ppf(significant_value,dof)\n",
    "if chi_square>critical_value:\n",
    "    print(\"reject null hypothesis \")\n",
    "else:\n",
    "    print(\"fail to reject null hypothesis\")\n",
    "print(f\"critical_value{critical_value},chi square statistic :{chi_square}\",dof)"
   ]
  },
  {
   "cell_type": "markdown",
   "id": "b76c543f-a96f-4050-b206-db3de4ea3fda",
   "metadata": {},
   "source": [
    "# Quation 11"
   ]
  },
  {
   "cell_type": "code",
   "execution_count": 43,
   "id": "97379338-1413-4895-83c7-5ae23286727e",
   "metadata": {},
   "outputs": [
    {
     "name": "stdout",
     "output_type": "stream",
     "text": [
      "reject null hypothesis\n"
     ]
    }
   ],
   "source": [
    "# null hypothesis population mean is significantly different\n",
    "# alternate hypothesis population mean is not significantly differnt\n",
    "sample_size=30\n",
    "sample_mean=72\n",
    "sample_std=10\n",
    "population_mean=70\n",
    "significane_level=0.05\n",
    "from scipy.stats import t\n",
    "t_score=sample_mean-population_mean/(sample_std/sample_size**0.5)\n",
    "lower_interval=t.ppf(significane_level/2,29)\n",
    "higher_interval=t.ppf((1+significane_level)/2,29)\n",
    "\n",
    "if t_score<lower_interval or t_score>higher_interval:\n",
    "    print(\"reject null hypothesis\")\n",
    "else:\n",
    "    print(\"fail to reject null hypothesis\")"
   ]
  },
  {
   "cell_type": "code",
   "execution_count": null,
   "id": "899257ba-b448-4297-bcf4-78d7eccfa6d3",
   "metadata": {},
   "outputs": [],
   "source": []
  }
 ],
 "metadata": {
  "kernelspec": {
   "display_name": "Python 3 (ipykernel)",
   "language": "python",
   "name": "python3"
  },
  "language_info": {
   "codemirror_mode": {
    "name": "ipython",
    "version": 3
   },
   "file_extension": ".py",
   "mimetype": "text/x-python",
   "name": "python",
   "nbconvert_exporter": "python",
   "pygments_lexer": "ipython3",
   "version": "3.10.8"
  }
 },
 "nbformat": 4,
 "nbformat_minor": 5
}
